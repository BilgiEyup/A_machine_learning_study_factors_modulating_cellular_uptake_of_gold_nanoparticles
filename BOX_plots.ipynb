{
  "nbformat": 4,
  "nbformat_minor": 0,
  "metadata": {
    "colab": {
      "provenance": []
    },
    "kernelspec": {
      "name": "python3",
      "display_name": "Python 3"
    },
    "language_info": {
      "name": "python"
    }
  },
  "cells": [
    {
      "cell_type": "code",
      "execution_count": null,
      "metadata": {
        "id": "yBhLzS-vRBdK"
      },
      "outputs": [],
      "source": [
        "# Importing required libraries\n",
        "import seaborn as sns  # For data visualization\n",
        "import matplotlib.pyplot as plt  # For plotting graphs\n",
        "import pandas as pd  # For handling dataframes\n",
        "\n",
        "# Load the dataset from the specified path\n",
        "data = pd.read_csv('path_to_your_file/file_name.csv')\n",
        "\n",
        "# Log-transforming the target variable to adjust the scale and make the distribution more normal\n",
        "data['Cellular_Uptake_pg_Au_cell_log'] = np.log(data['Cellular_Uptake_pg_Au_cell'] + 1)\n",
        "\n",
        "# Correcting typo in 'Certain_column' column if exists\n",
        "if 'Wrong_typo' in data['Certain_column'].values:\n",
        "    data['Certain_column'] = data['Certain_column '].replace('Wrong_typo', 'Corrected_typo')\n",
        "\n",
        "# Simplifying labels for 'Coating_subgrouped'; While collecting data, much more definitive column or row names could be exist, before visualize them it is better to simplify.\n",
        "label_replacements = {\n",
        "    'Albumin_containing': 'Albumin',\n",
        "    'DNA_modified_DNA': 'DNA',\n",
        "    'Small_molecule': 'Small molecule',\n",
        "    'Polymeric_protein': 'Polymer and protein',\n",
        "    'Metallic_metal_oxide': 'Metal',\n",
        "    'Peptide_antibody': 'Peptide'\n",
        "}\n",
        "data['Coating_subgrouped'].replace(label_replacements, inplace=True)\n",
        "\n",
        "# Defining bins for 'Concentration' and 'Exposure Time' since there should be lots of different individual concentration and exposure time values,\n",
        "# Same approach can be used for other continuous variables\n",
        "concentration_bins = [0, 2, 5, 10, 20, 30, 50, 80, 100, 200, 1000]\n",
        "exposure_bins = [0, 1, 2, 3, 4, 6, 8, 12, 16, 18, 24, 48, 72]\n",
        "\n",
        "# Creating new categorical variables representing the bins with labels as the upper limit of the bins\n",
        "data['Concentration_Binned'] = pd.cut(data['Concentration_µg/ml'], bins=concentration_bins, labels=concentration_bins[1:], right=True, include_lowest=True)\n",
        "data['Exposure_Binned'] = pd.cut(data['Exposure_time_h'], bins=exposure_bins, labels=exposure_bins[1:], right=True, include_lowest=True)\n",
        "\n",
        "# Specifying the output directory to save the plots\n",
        "output_directory = \"output_directory_to_save_results/Box_plots\"\n",
        "\n",
        "# Define a constant width for each box in the box plots; otherwise the widths will vary depending on the variables\n",
        "box_width = 0.3\n",
        "\n",
        "# Defining a function to create and save box plots with specified parameters\n",
        "def create_and_save_box_plot(x, y, data, xlabel, title, filename):\n",
        "    plt.figure(figsize=(12, 6))  # Setting figure size\n",
        "    sns.boxplot(x=x, y=y, data=data, color='#e1e1e0', width=box_width)  # Creating a box plot with a constant width for each box with certain color\n",
        "    plt.title(title, fontsize=20)  # Setting title and font size\n",
        "    plt.xlabel(xlabel, fontsize=20)  # Setting x-label and font size\n",
        "    plt.ylabel('Cellular Uptake (pg Au/cell)\\n', fontsize=20)  # Setting y-label and font size\n",
        "    plt.xticks(rotation=45, fontsize=20)  # Adjusting x-axis tick labels' rotation and font size\n",
        "    plt.yticks(fontsize=20)  # Adjusting y-axis tick labels' font size\n",
        "    plt.tight_layout()  # Adjusting layout to prevent clipping\n",
        "    plt.savefig(f\"{output_directory}/{filename}2.png\", format='png', dpi=1000)  # Saving the plot in PNG format with specified dpi\n",
        "    plt.show()  # Displaying the plot\n",
        "\n",
        "# Creating and saving box plots for various variables against cellular uptake\n",
        "create_and_save_box_plot('Concentration_Binned', 'Cellular_Uptake_pg_Au_cell', data, 'Concentration (µg/ml)\\n', 'Cellular Uptake vs Concentration\\n', 'Concentration_Box_Plot_Not_Transformed')\n",
        "create_and_save_box_plot('Exposure_Binned', 'Cellular_Uptake_pg_Au_cell', data, 'Exposure Duration (hours)\\n', 'Cellular Uptake vs Exposure Duration\\n', 'Exposure_Box_Plot_Not_Transformed')\n",
        "create_and_save_box_plot('Coating_category', 'Cellular_Uptake_pg_Au_cell', data, 'Coating Category\\n', 'Cellular Uptake vs Coating Category\\n', 'Coating_Category_Box_Plot_Not_Transformed')\n",
        "create_and_save_box_plot('Shape', 'Cellular_Uptake_pg_Au_cell', data, 'Shape\\n', 'Cellular Uptake vs Shape\\n', 'Shape_Box_Plot_Not_Transformed')\n",
        "create_and_save_box_plot('Coating_subgrouped', 'Cellular_Uptake_pg_Au_cell', data, 'Coating Subgrouped', 'Cellular Uptake vs Coating Subgrouped\\n', 'Coating_Subgrouped_Box_Plot_Not_Transformed')\n"
      ]
    }
  ]
}